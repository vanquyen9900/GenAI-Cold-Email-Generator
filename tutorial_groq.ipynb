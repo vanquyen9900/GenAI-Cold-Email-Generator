{
 "cells": [
  {
   "cell_type": "code",
   "execution_count": null,
   "id": "0ea5c38b",
   "metadata": {},
   "outputs": [
    {
     "name": "stdout",
     "output_type": "stream",
     "text": [
      "content='The capital of France is Paris.' response_metadata={'token_usage': {'completion_tokens': 8, 'prompt_tokens': 42, 'total_tokens': 50, 'completion_time': 0.006474862, 'prompt_time': 0.00243478, 'queue_time': 0.049295599, 'total_time': 0.008909642}, 'model_name': 'llama-3.1-8b-instant', 'system_fingerprint': 'fp_7b3cfae3af', 'finish_reason': 'stop', 'logprobs': None} id='run-59adc874-4466-415a-b2cc-e2c953eebf6a-0' usage_metadata={'input_tokens': 42, 'output_tokens': 8, 'total_tokens': 50}\n"
     ]
    }
   ],
   "source": [
    "from langchain_groq import ChatGroq\n",
    "\n",
    "llm = ChatGroq(\n",
    "    temperature=0,\n",
    "    groq_api_key=\"<your_groph_api_key_here>\",\n",
    "    model_name=\"llama-3.1-8b-instant\"\n",
    ")\n",
    "\n",
    "reponse = llm.invoke(\"What is the capital of France?\")\n",
    "print(reponse)"
   ]
  },
  {
   "cell_type": "code",
   "execution_count": null,
   "id": "6eacde36",
   "metadata": {},
   "outputs": [],
   "source": []
  }
 ],
 "metadata": {
  "kernelspec": {
   "display_name": "langchain_env",
   "language": "python",
   "name": "python3"
  },
  "language_info": {
   "codemirror_mode": {
    "name": "ipython",
    "version": 3
   },
   "file_extension": ".py",
   "mimetype": "text/x-python",
   "name": "python",
   "nbconvert_exporter": "python",
   "pygments_lexer": "ipython3",
   "version": "3.10.19"
  }
 },
 "nbformat": 4,
 "nbformat_minor": 5
}
